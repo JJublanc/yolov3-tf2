{
 "cells": [
  {
   "cell_type": "markdown",
   "metadata": {},
   "source": [
    "# Train new model with transfer learning "
   ]
  },
  {
   "cell_type": "markdown",
   "metadata": {},
   "source": [
    "### Create text files with images' names"
   ]
  },
  {
   "cell_type": "code",
   "execution_count": null,
   "metadata": {},
   "outputs": [],
   "source": [
    "os.chdir(\"/home/jupyter/yolov3-tf2/data/cards\")"
   ]
  },
  {
   "cell_type": "code",
   "execution_count": 26,
   "metadata": {},
   "outputs": [],
   "source": [
    "with open (\"train_image_names.txt\", \"w\") as file_image_names:\n",
    "    for file in glob.glob(\"train/*.jpg\"):\n",
    "        # print(file.split(\".\")[0].split(\"/\")[1])\n",
    "        file_image_names.write(\"{}\\n\".format(file.split(\".\")[0].split(\"/\")[1]))"
   ]
  },
  {
   "cell_type": "code",
   "execution_count": 27,
   "metadata": {},
   "outputs": [],
   "source": [
    "with open (\"test_image_names.txt\", \"w\") as file_image_names:\n",
    "    for file in glob.glob(\"test/*.jpg\"):\n",
    "        # print(file.split(\".\")[0].split(\"/\")[1])\n",
    "        file_image_names.write(\"{}\\n\".format(file.split(\".\")[0].split(\"/\")[1]))"
   ]
  },
  {
   "cell_type": "markdown",
   "metadata": {},
   "source": [
    "## Launch a training with tiny model"
   ]
  },
  {
   "cell_type": "code",
   "execution_count": null,
   "metadata": {},
   "outputs": [],
   "source": [
    "python train.py \\\n",
    "    --dataset ./data/cards2020_train.tfrecord \\\n",
    "    --tiny True \\\n",
    "    --val_dataset ./data/cards2020_val.tfrecord \\\n",
    "    --classes ./data/cards.names \\\n",
    "    --num_classes 52 \\\n",
    "    --mode fit --transfer darknet \\\n",
    "    --batch_size 16 \\\n",
    "    --epochs 10 \\\n",
    "    --weights ./checkpoints/yolov3-tiny.tf \\\n",
    "    --weights_num_classes 80 \\"
   ]
  }
 ],
 "metadata": {
  "environment": {
   "name": "tf2-gpu.2-1.m46",
   "type": "gcloud",
   "uri": "gcr.io/deeplearning-platform-release/tf2-gpu.2-1:m46"
  },
  "kernelspec": {
   "display_name": "Python 3",
   "language": "python",
   "name": "python3"
  },
  "language_info": {
   "codemirror_mode": {
    "name": "ipython",
    "version": 3
   },
   "file_extension": ".py",
   "mimetype": "text/x-python",
   "name": "python",
   "nbconvert_exporter": "python",
   "pygments_lexer": "ipython3",
   "version": "3.7.6"
  }
 },
 "nbformat": 4,
 "nbformat_minor": 4
}
